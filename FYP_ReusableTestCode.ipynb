{
  "nbformat": 4,
  "nbformat_minor": 0,
  "metadata": {
    "colab": {
      "provenance": [],
      "authorship_tag": "ABX9TyNbfJxN0i4ntT3WP0ItZSLC",
      "include_colab_link": true
    },
    "kernelspec": {
      "name": "python3",
      "display_name": "Python 3"
    },
    "language_info": {
      "name": "python"
    }
  },
  "cells": [
    {
      "cell_type": "markdown",
      "metadata": {
        "id": "view-in-github",
        "colab_type": "text"
      },
      "source": [
        "<a href=\"https://colab.research.google.com/github/WihangaChethiya/FYP-Computer-Vision-Based-Scene-Interpretation-and-Group-Activity-Detection-/blob/main/FYP_ReusableTestCode.ipynb\" target=\"_parent\"><img src=\"https://colab.research.google.com/assets/colab-badge.svg\" alt=\"Open In Colab\"/></a>"
      ]
    },
    {
      "cell_type": "markdown",
      "source": [
        "# Initialazing"
      ],
      "metadata": {
        "id": "YWlRUtmK8UE3"
      }
    },
    {
      "cell_type": "code",
      "source": [
        "# Step 1: Uninstall any existing versions of PyTorch, TorchVision, and TorchAudio\n",
        "!pip uninstall torch torchvision torchaudio -y"
      ],
      "metadata": {
        "colab": {
          "base_uri": "https://localhost:8080/"
        },
        "id": "AmNEetTv2MWO",
        "outputId": "8cf50cc0-b45f-4091-db58-7ee86b348229"
      },
      "execution_count": null,
      "outputs": [
        {
          "output_type": "stream",
          "name": "stdout",
          "text": [
            "Found existing installation: torch 2.5.1+cu121\n",
            "Uninstalling torch-2.5.1+cu121:\n",
            "  Successfully uninstalled torch-2.5.1+cu121\n",
            "Found existing installation: torchvision 0.20.1+cu121\n",
            "Uninstalling torchvision-0.20.1+cu121:\n",
            "  Successfully uninstalled torchvision-0.20.1+cu121\n",
            "Found existing installation: torchaudio 2.5.1+cu121\n",
            "Uninstalling torchaudio-2.5.1+cu121:\n",
            "  Successfully uninstalled torchaudio-2.5.1+cu121\n"
          ]
        }
      ]
    },
    {
      "cell_type": "code",
      "source": [
        "# Step 2: Download PyTorch, TorchVision, and TorchAudio wheels to a temporary folder\n",
        "!pip download torch==1.11.0+cu115 torchvision==0.12.0+cu115 torchaudio==0.11.0 -f https://download.pytorch.org/whl/cu115/torch_stable.html -d /content/wheels"
      ],
      "metadata": {
        "colab": {
          "base_uri": "https://localhost:8080/"
        },
        "id": "jTsaJA4P2jrg",
        "outputId": "2db1ed1d-0283-4a80-c927-e36af30a00f7"
      },
      "execution_count": null,
      "outputs": [
        {
          "output_type": "stream",
          "name": "stdout",
          "text": [
            "Looking in links: https://download.pytorch.org/whl/cu115/torch_stable.html\n",
            "Collecting torch==1.11.0+cu115\n",
            "  Downloading https://download.pytorch.org/whl/cu115/torch-1.11.0%2Bcu115-cp310-cp310-linux_x86_64.whl (2138.5 MB)\n",
            "\u001b[2K     \u001b[90m━━━━━━━━━━━━━━━━━━━━━━━━━━━━━━━━━━━━━━━━\u001b[0m \u001b[32m2.1/2.1 GB\u001b[0m \u001b[31m903.3 kB/s\u001b[0m eta \u001b[36m0:00:00\u001b[0m\n",
            "\u001b[?25hCollecting torchvision==0.12.0+cu115\n",
            "  Downloading https://download.pytorch.org/whl/cu115/torchvision-0.12.0%2Bcu115-cp310-cp310-linux_x86_64.whl (22.3 MB)\n",
            "\u001b[2K     \u001b[90m━━━━━━━━━━━━━━━━━━━━━━━━━━━━━━━━━━━━━━━━\u001b[0m \u001b[32m22.3/22.3 MB\u001b[0m \u001b[31m63.2 MB/s\u001b[0m eta \u001b[36m0:00:00\u001b[0m\n",
            "\u001b[?25hCollecting torchaudio==0.11.0\n",
            "  Downloading https://download.pytorch.org/whl/cu115/torchaudio-0.11.0%2Bcu115-cp310-cp310-linux_x86_64.whl (2.9 MB)\n",
            "\u001b[2K     \u001b[90m━━━━━━━━━━━━━━━━━━━━━━━━━━━━━━━━━━━━━━━━\u001b[0m \u001b[32m2.9/2.9 MB\u001b[0m \u001b[31m67.5 MB/s\u001b[0m eta \u001b[36m0:00:00\u001b[0m\n",
            "\u001b[?25hCollecting typing-extensions (from torch==1.11.0+cu115)\n",
            "  Downloading typing_extensions-4.12.2-py3-none-any.whl.metadata (3.0 kB)\n",
            "Collecting numpy (from torchvision==0.12.0+cu115)\n",
            "  Downloading numpy-2.2.1-cp310-cp310-manylinux_2_17_x86_64.manylinux2014_x86_64.whl.metadata (62 kB)\n",
            "\u001b[2K     \u001b[90m━━━━━━━━━━━━━━━━━━━━━━━━━━━━━━━━━━━━━━━━\u001b[0m \u001b[32m62.0/62.0 kB\u001b[0m \u001b[31m2.4 MB/s\u001b[0m eta \u001b[36m0:00:00\u001b[0m\n",
            "\u001b[?25hCollecting requests (from torchvision==0.12.0+cu115)\n",
            "  Downloading requests-2.32.3-py3-none-any.whl.metadata (4.6 kB)\n",
            "Collecting pillow!=8.3.*,>=5.3.0 (from torchvision==0.12.0+cu115)\n",
            "  Downloading pillow-11.1.0-cp310-cp310-manylinux_2_28_x86_64.whl.metadata (9.1 kB)\n",
            "Collecting charset-normalizer<4,>=2 (from requests->torchvision==0.12.0+cu115)\n",
            "  Downloading charset_normalizer-3.4.1-cp310-cp310-manylinux_2_17_x86_64.manylinux2014_x86_64.whl.metadata (35 kB)\n",
            "Collecting idna<4,>=2.5 (from requests->torchvision==0.12.0+cu115)\n",
            "  Downloading idna-3.10-py3-none-any.whl.metadata (10 kB)\n",
            "Collecting urllib3<3,>=1.21.1 (from requests->torchvision==0.12.0+cu115)\n",
            "  Downloading urllib3-2.3.0-py3-none-any.whl.metadata (6.5 kB)\n",
            "Collecting certifi>=2017.4.17 (from requests->torchvision==0.12.0+cu115)\n",
            "  Downloading certifi-2024.12.14-py3-none-any.whl.metadata (2.3 kB)\n",
            "Downloading pillow-11.1.0-cp310-cp310-manylinux_2_28_x86_64.whl (4.5 MB)\n",
            "\u001b[2K   \u001b[90m━━━━━━━━━━━━━━━━━━━━━━━━━━━━━━━━━━━━━━━━\u001b[0m \u001b[32m4.5/4.5 MB\u001b[0m \u001b[31m42.4 MB/s\u001b[0m eta \u001b[36m0:00:00\u001b[0m\n",
            "\u001b[?25hDownloading numpy-2.2.1-cp310-cp310-manylinux_2_17_x86_64.manylinux2014_x86_64.whl (16.4 MB)\n",
            "\u001b[2K   \u001b[90m━━━━━━━━━━━━━━━━━━━━━━━━━━━━━━━━━━━━━━━━\u001b[0m \u001b[32m16.4/16.4 MB\u001b[0m \u001b[31m57.4 MB/s\u001b[0m eta \u001b[36m0:00:00\u001b[0m\n",
            "\u001b[?25hDownloading requests-2.32.3-py3-none-any.whl (64 kB)\n",
            "\u001b[2K   \u001b[90m━━━━━━━━━━━━━━━━━━━━━━━━━━━━━━━━━━━━━━━━\u001b[0m \u001b[32m64.9/64.9 kB\u001b[0m \u001b[31m4.5 MB/s\u001b[0m eta \u001b[36m0:00:00\u001b[0m\n",
            "\u001b[?25hDownloading typing_extensions-4.12.2-py3-none-any.whl (37 kB)\n",
            "Downloading certifi-2024.12.14-py3-none-any.whl (164 kB)\n",
            "\u001b[2K   \u001b[90m━━━━━━━━━━━━━━━━━━━━━━━━━━━━━━━━━━━━━━━━\u001b[0m \u001b[32m164.9/164.9 kB\u001b[0m \u001b[31m9.3 MB/s\u001b[0m eta \u001b[36m0:00:00\u001b[0m\n",
            "\u001b[?25hDownloading charset_normalizer-3.4.1-cp310-cp310-manylinux_2_17_x86_64.manylinux2014_x86_64.whl (146 kB)\n",
            "\u001b[2K   \u001b[90m━━━━━━━━━━━━━━━━━━━━━━━━━━━━━━━━━━━━━━━━\u001b[0m \u001b[32m146.1/146.1 kB\u001b[0m \u001b[31m8.1 MB/s\u001b[0m eta \u001b[36m0:00:00\u001b[0m\n",
            "\u001b[?25hDownloading idna-3.10-py3-none-any.whl (70 kB)\n",
            "\u001b[2K   \u001b[90m━━━━━━━━━━━━━━━━━━━━━━━━━━━━━━━━━━━━━━━━\u001b[0m \u001b[32m70.4/70.4 kB\u001b[0m \u001b[31m4.7 MB/s\u001b[0m eta \u001b[36m0:00:00\u001b[0m\n",
            "\u001b[?25hDownloading urllib3-2.3.0-py3-none-any.whl (128 kB)\n",
            "\u001b[2K   \u001b[90m━━━━━━━━━━━━━━━━━━━━━━━━━━━━━━━━━━━━━━━━\u001b[0m \u001b[32m128.4/128.4 kB\u001b[0m \u001b[31m7.6 MB/s\u001b[0m eta \u001b[36m0:00:00\u001b[0m\n",
            "\u001b[?25hSaved ./wheels/torch-1.11.0+cu115-cp310-cp310-linux_x86_64.whl\n",
            "Saved ./wheels/torchvision-0.12.0+cu115-cp310-cp310-linux_x86_64.whl\n",
            "Saved ./wheels/torchaudio-0.11.0+cu115-cp310-cp310-linux_x86_64.whl\n",
            "Saved ./wheels/pillow-11.1.0-cp310-cp310-manylinux_2_28_x86_64.whl\n",
            "Saved ./wheels/numpy-2.2.1-cp310-cp310-manylinux_2_17_x86_64.manylinux2014_x86_64.whl\n",
            "Saved ./wheels/requests-2.32.3-py3-none-any.whl\n",
            "Saved ./wheels/typing_extensions-4.12.2-py3-none-any.whl\n",
            "Saved ./wheels/certifi-2024.12.14-py3-none-any.whl\n",
            "Saved ./wheels/charset_normalizer-3.4.1-cp310-cp310-manylinux_2_17_x86_64.manylinux2014_x86_64.whl\n",
            "Saved ./wheels/idna-3.10-py3-none-any.whl\n",
            "Saved ./wheels/urllib3-2.3.0-py3-none-any.whl\n",
            "Successfully downloaded torch torchvision torchaudio pillow numpy requests typing-extensions certifi charset-normalizer idna urllib3\n"
          ]
        }
      ]
    },
    {
      "cell_type": "code",
      "source": [
        "# Step 3: Download mmcv-full==1.5.0 wheel to the same folder\n",
        "!pip download mmcv-full==1.5.0 -f https://download.openmmlab.com/mmcv/dist/cu115/torch1.11.0/index.html -d /content/wheels\n"
      ],
      "metadata": {
        "colab": {
          "base_uri": "https://localhost:8080/"
        },
        "id": "DiWS00BJ28C9",
        "outputId": "70f9eb59-2c2f-4ca1-926b-0a49bdca8a53"
      },
      "execution_count": null,
      "outputs": [
        {
          "output_type": "stream",
          "name": "stdout",
          "text": [
            "Looking in links: https://download.openmmlab.com/mmcv/dist/cu115/torch1.11.0/index.html\n",
            "Collecting mmcv-full==1.5.0\n",
            "  Downloading https://download.openmmlab.com/mmcv/dist/cu115/torch1.11.0/mmcv_full-1.5.0-cp310-cp310-manylinux1_x86_64.whl (37.2 MB)\n",
            "\u001b[2K     \u001b[90m━━━━━━━━━━━━━━━━━━━━━━━━━━━━━━━━━━━━━━━━\u001b[0m \u001b[32m37.2/37.2 MB\u001b[0m \u001b[31m22.4 MB/s\u001b[0m eta \u001b[36m0:00:00\u001b[0m\n",
            "\u001b[?25hCollecting addict (from mmcv-full==1.5.0)\n",
            "  Downloading addict-2.4.0-py3-none-any.whl.metadata (1.0 kB)\n",
            "Collecting numpy (from mmcv-full==1.5.0)\n",
            "  File was already downloaded /content/wheels/numpy-2.2.1-cp310-cp310-manylinux_2_17_x86_64.manylinux2014_x86_64.whl\n",
            "Collecting packaging (from mmcv-full==1.5.0)\n",
            "  Downloading packaging-24.2-py3-none-any.whl.metadata (3.2 kB)\n",
            "Collecting Pillow (from mmcv-full==1.5.0)\n",
            "  File was already downloaded /content/wheels/pillow-11.1.0-cp310-cp310-manylinux_2_28_x86_64.whl\n",
            "Collecting pyyaml (from mmcv-full==1.5.0)\n",
            "  Downloading PyYAML-6.0.2-cp310-cp310-manylinux_2_17_x86_64.manylinux2014_x86_64.whl.metadata (2.1 kB)\n",
            "Collecting yapf (from mmcv-full==1.5.0)\n",
            "  Downloading yapf-0.43.0-py3-none-any.whl.metadata (46 kB)\n",
            "\u001b[2K     \u001b[90m━━━━━━━━━━━━━━━━━━━━━━━━━━━━━━━━━━━━━━━━\u001b[0m \u001b[32m46.8/46.8 kB\u001b[0m \u001b[31m1.9 MB/s\u001b[0m eta \u001b[36m0:00:00\u001b[0m\n",
            "\u001b[?25hCollecting opencv-python>=3 (from mmcv-full==1.5.0)\n",
            "  Downloading opencv_python-4.10.0.84-cp37-abi3-manylinux_2_17_x86_64.manylinux2014_x86_64.whl.metadata (20 kB)\n",
            "Collecting platformdirs>=3.5.1 (from yapf->mmcv-full==1.5.0)\n",
            "  Downloading platformdirs-4.3.6-py3-none-any.whl.metadata (11 kB)\n",
            "Collecting tomli>=2.0.1 (from yapf->mmcv-full==1.5.0)\n",
            "  Downloading tomli-2.2.1-py3-none-any.whl.metadata (10 kB)\n",
            "Downloading opencv_python-4.10.0.84-cp37-abi3-manylinux_2_17_x86_64.manylinux2014_x86_64.whl (62.5 MB)\n",
            "\u001b[2K   \u001b[90m━━━━━━━━━━━━━━━━━━━━━━━━━━━━━━━━━━━━━━━━\u001b[0m \u001b[32m62.5/62.5 MB\u001b[0m \u001b[31m10.5 MB/s\u001b[0m eta \u001b[36m0:00:00\u001b[0m\n",
            "\u001b[?25hDownloading addict-2.4.0-py3-none-any.whl (3.8 kB)\n",
            "Downloading packaging-24.2-py3-none-any.whl (65 kB)\n",
            "\u001b[2K   \u001b[90m━━━━━━━━━━━━━━━━━━━━━━━━━━━━━━━━━━━━━━━━\u001b[0m \u001b[32m65.5/65.5 kB\u001b[0m \u001b[31m4.5 MB/s\u001b[0m eta \u001b[36m0:00:00\u001b[0m\n",
            "\u001b[?25hDownloading PyYAML-6.0.2-cp310-cp310-manylinux_2_17_x86_64.manylinux2014_x86_64.whl (751 kB)\n",
            "\u001b[2K   \u001b[90m━━━━━━━━━━━━━━━━━━━━━━━━━━━━━━━━━━━━━━━━\u001b[0m \u001b[32m751.2/751.2 kB\u001b[0m \u001b[31m28.8 MB/s\u001b[0m eta \u001b[36m0:00:00\u001b[0m\n",
            "\u001b[?25hDownloading yapf-0.43.0-py3-none-any.whl (256 kB)\n",
            "\u001b[2K   \u001b[90m━━━━━━━━━━━━━━━━━━━━━━━━━━━━━━━━━━━━━━━━\u001b[0m \u001b[32m256.2/256.2 kB\u001b[0m \u001b[31m14.7 MB/s\u001b[0m eta \u001b[36m0:00:00\u001b[0m\n",
            "\u001b[?25hDownloading platformdirs-4.3.6-py3-none-any.whl (18 kB)\n",
            "Downloading tomli-2.2.1-py3-none-any.whl (14 kB)\n",
            "Saved ./wheels/mmcv_full-1.5.0-cp310-cp310-manylinux1_x86_64.whl\n",
            "Saved ./wheels/opencv_python-4.10.0.84-cp37-abi3-manylinux_2_17_x86_64.manylinux2014_x86_64.whl\n",
            "Saved ./wheels/addict-2.4.0-py3-none-any.whl\n",
            "Saved ./wheels/packaging-24.2-py3-none-any.whl\n",
            "Saved ./wheels/PyYAML-6.0.2-cp310-cp310-manylinux_2_17_x86_64.manylinux2014_x86_64.whl\n",
            "Saved ./wheels/yapf-0.43.0-py3-none-any.whl\n",
            "Saved ./wheels/platformdirs-4.3.6-py3-none-any.whl\n",
            "Saved ./wheels/tomli-2.2.1-py3-none-any.whl\n",
            "Successfully downloaded mmcv-full opencv-python numpy addict packaging Pillow pyyaml yapf platformdirs tomli\n"
          ]
        }
      ]
    },
    {
      "cell_type": "code",
      "source": [
        "# Step 4: Mount Google Drive to save the wheels\n",
        "from google.colab import drive\n",
        "drive.mount('/content/drive')"
      ],
      "metadata": {
        "colab": {
          "base_uri": "https://localhost:8080/"
        },
        "id": "M9O0H2wg3ETB",
        "outputId": "41079a9d-6b89-478c-e278-8459f0eb856e"
      },
      "execution_count": 5,
      "outputs": [
        {
          "output_type": "stream",
          "name": "stdout",
          "text": [
            "Drive already mounted at /content/drive; to attempt to forcibly remount, call drive.mount(\"/content/drive\", force_remount=True).\n"
          ]
        }
      ]
    },
    {
      "cell_type": "code",
      "source": [
        "# Step 5: Create a new folder inside the FYP folder (e.g., `FYP/wheel_files`)\n",
        "!mkdir -p /content/drive/My\\ Drive/FYP/wheel_files"
      ],
      "metadata": {
        "id": "cZpzuqYz5T4g"
      },
      "execution_count": null,
      "outputs": []
    },
    {
      "cell_type": "code",
      "source": [
        "# Step 6: Copy the wheels to the new folder inside FYP\n",
        "!cp -r /content/wheels/* /content/drive/My\\ Drive/FYP/wheel_files"
      ],
      "metadata": {
        "id": "Giver4ma3fHg"
      },
      "execution_count": null,
      "outputs": []
    },
    {
      "cell_type": "code",
      "source": [
        "# Step 7: Verify the wheels are saved in the new folder\n",
        "!ls /content/drive/My\\ Drive/FYP/wheel_files"
      ],
      "metadata": {
        "colab": {
          "base_uri": "https://localhost:8080/"
        },
        "id": "SeMBg6lz3pHJ",
        "outputId": "b657af90-849f-4e53-f3e8-8b6dc0498afe"
      },
      "execution_count": null,
      "outputs": [
        {
          "output_type": "stream",
          "name": "stdout",
          "text": [
            "addict-2.4.0-py3-none-any.whl\n",
            "certifi-2024.12.14-py3-none-any.whl\n",
            "charset_normalizer-3.4.1-cp310-cp310-manylinux_2_17_x86_64.manylinux2014_x86_64.whl\n",
            "idna-3.10-py3-none-any.whl\n",
            "mmcv_full-1.5.0-cp310-cp310-manylinux1_x86_64.whl\n",
            "numpy-2.2.1-cp310-cp310-manylinux_2_17_x86_64.manylinux2014_x86_64.whl\n",
            "opencv_python-4.10.0.84-cp37-abi3-manylinux_2_17_x86_64.manylinux2014_x86_64.whl\n",
            "packaging-24.2-py3-none-any.whl\n",
            "pillow-11.1.0-cp310-cp310-manylinux_2_28_x86_64.whl\n",
            "platformdirs-4.3.6-py3-none-any.whl\n",
            "PyYAML-6.0.2-cp310-cp310-manylinux_2_17_x86_64.manylinux2014_x86_64.whl\n",
            "requests-2.32.3-py3-none-any.whl\n",
            "tomli-2.2.1-py3-none-any.whl\n",
            "torch-1.11.0+cu115-cp310-cp310-linux_x86_64.whl\n",
            "torchaudio-0.11.0+cu115-cp310-cp310-linux_x86_64.whl\n",
            "torchvision-0.12.0+cu115-cp310-cp310-linux_x86_64.whl\n",
            "typing_extensions-4.12.2-py3-none-any.whl\n",
            "urllib3-2.3.0-py3-none-any.whl\n",
            "yapf-0.43.0-py3-none-any.whl\n"
          ]
        }
      ]
    },
    {
      "cell_type": "markdown",
      "source": [
        "**When Needs to re-use this -mmcv and pytorch version just do that**\n",
        "\n",
        "\n",
        "```\n",
        "!pip install /content/drive/My\\ Drive/FYP/wheel_files/*\n",
        "\n",
        "```\n",
        "\n"
      ],
      "metadata": {
        "id": "4H2QgdXL6Xx6"
      }
    },
    {
      "cell_type": "markdown",
      "source": [
        "## Understanding Pickle File"
      ],
      "metadata": {
        "id": "fqx5Gg8qyESl"
      }
    },
    {
      "cell_type": "code",
      "source": [
        "!pip install numpy==1.24.3 # Install a specific compatible version of NumPy\n",
        "!pip install matplotlib --upgrade # Upgrade matplotlib to ensure compatibility"
      ],
      "metadata": {
        "id": "KAOZTqWsym-Z"
      },
      "execution_count": null,
      "outputs": []
    },
    {
      "cell_type": "code",
      "source": [
        "import pickle\n",
        "import numpy as np\n",
        "import matplotlib.pyplot as plt\n",
        "\n",
        "# File path\n",
        "pkl_path = '/content/drive/My Drive/FYP/ntu60_hrnet.pkl'\n",
        "\n",
        "# Load the pickle file\n",
        "with open(pkl_path, 'rb') as f:\n",
        "    data = pickle.load(f)\n",
        "\n",
        "# Inspect the structure of the data\n",
        "print(\"Type of data:\", type(data))\n",
        "if isinstance(data, dict):\n",
        "    print(\"Keys in the data:\", data.keys())\n",
        "    if 'annotations' in data:\n",
        "        annotations = data['annotations']\n",
        "        print(f\"Number of annotations: {len(annotations)}\")\n",
        "\n",
        "        # Inspect the first annotation\n",
        "        first_annotation = annotations[0]\n",
        "        print(\"Keys in the first annotation:\", first_annotation.keys())\n",
        "        print(\"First annotation details:\")\n",
        "        for key, value in first_annotation.items():\n",
        "            if isinstance(value, np.ndarray):\n",
        "                print(f\"  {key}: {value.shape}\")\n",
        "            else:\n",
        "                print(f\"  {key}: {value}\")\n",
        "\n",
        "        # Extract keypoints and visualize\n",
        "        if 'keypoint' in first_annotation:\n",
        "            keypoints = first_annotation['keypoint']  # Shape: (num_frames, num_joints, 2)\n",
        "            print(f\"Keypoints shape: {keypoints.shape}\")\n",
        "\n",
        "            # Visualize keypoints for the first frame\n",
        "            first_frame_keypoints = keypoints[0]\n",
        "            print(f\"First frame keypoints:\\n{first_frame_keypoints}\")\n",
        "\n",
        "            # Plot the keypoints\n",
        "            plt.figure(figsize=(6, 6))\n",
        "            plt.scatter(first_frame_keypoints[:, 0], first_frame_keypoints[:, 1], c='red', marker='o')\n",
        "            plt.title('Keypoints for First Frame')\n",
        "            plt.xlabel('X')\n",
        "            plt.ylabel('Y')\n",
        "            plt.gca().invert_yaxis()  # Match image coordinates\n",
        "            plt.show()\n",
        "        else:\n",
        "            print(\"No 'keypoint' data found in the first annotation.\")\n",
        "# Optional: Check splits if available\n",
        "if 'split' in data:\n",
        "    print(\"Available splits:\", data['split'].keys())\n",
        "    # Check if 'xsub_train' key exists instead of 'train'\n",
        "    if 'xsub_train' in data['split']:\n",
        "        print(\"Train split:\", data['split']['xsub_train'][:5])  # Show first 5 videos in the train split\n",
        "    else:\n",
        "        print(\"No 'xsub_train' split found in the data.\")\n"
      ],
      "metadata": {
        "colab": {
          "base_uri": "https://localhost:8080/",
          "height": 1000
        },
        "id": "7xFS-gGwyHjk",
        "outputId": "07ce1194-801b-431c-cac2-3e95975779d9"
      },
      "execution_count": 2,
      "outputs": [
        {
          "output_type": "stream",
          "name": "stdout",
          "text": [
            "Type of data: <class 'dict'>\n",
            "Keys in the data: dict_keys(['split', 'annotations'])\n",
            "Number of annotations: 56578\n",
            "Keys in the first annotation: dict_keys(['frame_dir', 'label', 'img_shape', 'original_shape', 'total_frames', 'keypoint', 'keypoint_score'])\n",
            "First annotation details:\n",
            "  frame_dir: S001C001P001R001A001\n",
            "  label: 0\n",
            "  img_shape: (1080, 1920)\n",
            "  original_shape: (1080, 1920)\n",
            "  total_frames: 103\n",
            "  keypoint: (1, 103, 17, 2)\n",
            "  keypoint_score: (1, 103, 17)\n",
            "Keypoints shape: (1, 103, 17, 2)\n",
            "First frame keypoints:\n",
            "[[[1032.   334.8]\n",
            "  [1041.   325.8]\n",
            "  [1023.5  325.8]\n",
            "  ...\n",
            "  [1028.   611.5]\n",
            "  [1063.   704. ]\n",
            "  [1037.   695. ]]\n",
            "\n",
            " [[1032.   334. ]\n",
            "  [1041.   325. ]\n",
            "  [1023.   325. ]\n",
            "  ...\n",
            "  [1027.   612.5]\n",
            "  [1063.   707. ]\n",
            "  [1036.   693.5]]\n",
            "\n",
            " [[1032.   334. ]\n",
            "  [1041.   325. ]\n",
            "  [1023.   325. ]\n",
            "  ...\n",
            "  [1027.   612.5]\n",
            "  [1063.   707. ]\n",
            "  [1036.   698. ]]\n",
            "\n",
            " ...\n",
            "\n",
            " [[1037.   321.8]\n",
            "  [1050.   317.5]\n",
            "  [1033.   313. ]\n",
            "  ...\n",
            "  [1028.   612. ]\n",
            "  [1064.   704. ]\n",
            "  [1037.   695.5]]\n",
            "\n",
            " [[1039.   324. ]\n",
            "  [1048.   315.2]\n",
            "  [1035.   315.2]\n",
            "  ...\n",
            "  [1030.   611. ]\n",
            "  [1066.   703.5]\n",
            "  [1039.   695. ]]\n",
            "\n",
            " [[1037.   322. ]\n",
            "  [1050.   317.5]\n",
            "  [1033.   313.2]\n",
            "  ...\n",
            "  [1028.   613.5]\n",
            "  [1064.   701.5]\n",
            "  [1037.   697. ]]]\n"
          ]
        },
        {
          "output_type": "display_data",
          "data": {
            "text/plain": [
              "<Figure size 600x600 with 1 Axes>"
            ],
            "image/png": "[encoded data removed]"
          },
          "metadata": {}
        },
        {
          "output_type": "stream",
          "name": "stdout",
          "text": [
            "Available splits: dict_keys(['xsub_train', 'xsub_val', 'xview_train', 'xview_val'])\n",
            "Train split: ['S001C001P001R001A001', 'S001C001P001R001A002', 'S001C001P001R001A003', 'S001C001P001R001A004', 'S001C001P001R001A005']\n"
          ]
        }
      ]
    },
    {
      "cell_type": "markdown",
      "source": [
        "**Lets breakdown the Output**\n",
        "Let's break down the output you provided and explain what it represents, as well as which code snippets produced the specific output.\n",
        "\n",
        "---\n",
        "\n",
        "### **First Output (Console Information)**\n",
        "\n",
        "#### **Output Explanation**\n",
        "\n",
        "1. **Type of Data**:\n",
        "   ```plaintext\n",
        "   Type of data: <class 'dict'>\n",
        "   Keys in the data: dict_keys(['split', 'annotations'])\n",
        "   ```\n",
        "   - **What It Means**:\n",
        "     - The data loaded from the `.pkl` file is a Python dictionary (`dict`).\n",
        "     - The dictionary contains two keys:\n",
        "       - `'split'`: Contains information about dataset splits (e.g., `xsub_train`, `xsub_val`).\n",
        "       - `'annotations'`: Contains a list of pose information and metadata for each video in the dataset.\n",
        "\n",
        "   - **Code Snippet Responsible**:\n",
        "     ```python\n",
        "     print(\"Type of data:\", type(data))\n",
        "     print(\"Keys in the data:\", data.keys())\n",
        "     ```\n",
        "\n",
        "2. **Number of Annotations**:\n",
        "   ```plaintext\n",
        "   Number of annotations: 56578\n",
        "   ```\n",
        "   - **What It Means**:\n",
        "     - There are 56,578 videos or sequences in the dataset, each represented by one annotation in the `'annotations'` list.\n",
        "\n",
        "   - **Code Snippet Responsible**:\n",
        "     ```python\n",
        "     annotations = data['annotations']\n",
        "     print(f\"Number of annotations: {len(annotations)}\")\n",
        "     ```\n",
        "\n",
        "3. **First Annotation Keys**:\n",
        "   ```plaintext\n",
        "   Keys in the first annotation: dict_keys(['frame_dir', 'label', 'img_shape', 'original_shape', 'total_frames', 'keypoint', 'keypoint_score'])\n",
        "   ```\n",
        "   - **What It Means**:\n",
        "     - The first annotation contains the following keys:\n",
        "       - `'frame_dir'`: Path or identifier for the video sequence.\n",
        "       - `'label'`: Action label for the video (e.g., 0 for \"walking\").\n",
        "       - `'img_shape'`: Image dimensions used for pose estimation (e.g., (1080, 1920)).\n",
        "       - `'original_shape'`: Original resolution of the video frames.\n",
        "       - `'total_frames'`: Total number of frames in the video.\n",
        "       - `'keypoint'`: Pose keypoints for the video (shape: `num_frames x num_joints x 2`).\n",
        "       - `'keypoint_score'`: Confidence scores for each keypoint.\n",
        "\n",
        "   - **Code Snippet Responsible**:\n",
        "     ```python\n",
        "     first_annotation = annotations[0]\n",
        "     print(\"Keys in the first annotation:\", first_annotation.keys())\n",
        "     ```\n",
        "\n",
        "4. **First Annotation Details**:\n",
        "   ```plaintext\n",
        "   First annotation details:\n",
        "     frame_dir: S001C001P001R001A001\n",
        "     label: 0\n",
        "     img_shape: (1080, 1920)\n",
        "     original_shape: (1080, 1920)\n",
        "     total_frames: 103\n",
        "     keypoint: (1, 103, 17, 2)\n",
        "     keypoint_score: (1, 103, 17)\n",
        "   ```\n",
        "   - **What It Means**:\n",
        "     - `frame_dir`: Video identifier.\n",
        "     - `label`: Action label (`0`).\n",
        "     - `img_shape` and `original_shape`: Resolution of the video frames.\n",
        "     - `total_frames`: The video contains 103 frames.\n",
        "     - `keypoint`: NumPy array of shape `(1, 103, 17, 2)`, where:\n",
        "       - `1`: Single person detected.\n",
        "       - `103`: Number of frames.\n",
        "       - `17`: Number of keypoints (e.g., body joints).\n",
        "       - `2`: (x, y) coordinates for each keypoint.\n",
        "     - `keypoint_score`: Confidence scores for each keypoint (shape `(1, 103, 17)`).\n",
        "\n",
        "   - **Code Snippet Responsible**:\n",
        "     ```python\n",
        "     for key, value in first_annotation.items():\n",
        "         if isinstance(value, np.ndarray):\n",
        "             print(f\"  {key}: {value.shape}\")\n",
        "         else:\n",
        "             print(f\"  {key}: {value}\")\n",
        "     ```\n",
        "\n",
        "5. **First Frame Keypoints**:\n",
        "   ```plaintext\n",
        "   [[[1032.  334.8]\n",
        "     [1041.  325.8]\n",
        "     ...\n",
        "   ```\n",
        "   - **What It Means**:\n",
        "     - These are the `(x, y)` coordinates of the 17 keypoints for the first frame of the video.\n",
        "     - Each row represents the position of a body joint (e.g., head, shoulders, knees).\n",
        "\n",
        "   - **Code Snippet Responsible**:\n",
        "     ```python\n",
        "     keypoints = first_annotation['keypoint']\n",
        "     first_frame_keypoints = keypoints[0, 0]  # First frame, first person\n",
        "     print(f\"First frame keypoints:\\n{first_frame_keypoints}\")\n",
        "     ```\n",
        "\n",
        "---\n",
        "\n",
        "### **Second Output (Keypoints Visualization)**\n",
        "\n",
        "#### **Output Explanation**\n",
        "1. **Keypoints for First Frame**:\n",
        "   - **What It Shows**:\n",
        "     - A 2D scatter plot of the keypoints for the first frame of the first video.\n",
        "     - The red dots represent the positions of body joints.\n",
        "\n",
        "   - **Code Snippet Responsible**:\n",
        "     ```python\n",
        "     plt.figure(figsize=(6, 6))\n",
        "     plt.scatter(first_frame_keypoints[:, 0], first_frame_keypoints[:, 1], c='red', marker='o')\n",
        "     plt.title('Keypoints for First Frame')\n",
        "     plt.xlabel('X')\n",
        "     plt.ylabel('Y')\n",
        "     plt.gca().invert_yaxis()  # Invert y-axis to match image coordinates\n",
        "     plt.show()\n",
        "     ```\n",
        "\n",
        "---\n",
        "\n",
        "### **Split Information**\n",
        "\n",
        "#### **Output Explanation**\n",
        "```plaintext\n",
        "Available splits: dict_keys(['xsub_train', 'xsub_val', 'xview_train', 'xview_val'])\n",
        "Train split: ['S001C001P001R001A001', 'S001C001P001R001A002', ...]\n",
        "```\n",
        "- **What It Means**:\n",
        "  - Available splits include:\n",
        "    - `xsub_train`: Training set (cross-subject).\n",
        "    - `xsub_val`: Validation set (cross-subject).\n",
        "    - `xview_train`: Training set (cross-view).\n",
        "    - `xview_val`: Validation set (cross-view).\n",
        "  - The first few videos in the training split are listed.\n",
        "\n",
        "- **Code Snippet Responsible**:\n",
        "  ```python\n",
        "  if 'split' in data:\n",
        "      print(\"Available splits:\", data['split'].keys())\n",
        "      print(\"Train split:\", data['split']['xsub_train'][:5])\n",
        "  ```\n",
        "\n"
      ],
      "metadata": {
        "id": "eIOLD0q01Q4H"
      }
    },
    {
      "cell_type": "code",
      "source": [],
      "metadata": {
        "id": "yPG5xnJf1VRB"
      },
      "execution_count": null,
      "outputs": []
    }
  ]
}
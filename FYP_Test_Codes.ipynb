{
  "nbformat": 4,
  "nbformat_minor": 0,
  "metadata": {
    "colab": {
      "provenance": [],
      "authorship_tag": "ABX9TyOW7yw8cFviwfYzGKnRzv/B",
      "include_colab_link": true
    },
    "kernelspec": {
      "name": "python3",
      "display_name": "Python 3"
    },
    "language_info": {
      "name": "python"
    }
  },
  "cells": [
    {
      "cell_type": "markdown",
      "metadata": {
        "id": "view-in-github",
        "colab_type": "text"
      },
      "source": [
        "<a href=\"https://colab.research.google.com/github/WihangaChethiya/FYP-Computer-Vision-Based-Scene-Interpretation-and-Group-Activity-Detection-/blob/main/FYP_Test_Codes.ipynb\" target=\"_parent\"><img src=\"https://colab.research.google.com/assets/colab-badge.svg\" alt=\"Open In Colab\"/></a>"
      ]
    },
    {
      "cell_type": "markdown",
      "source": [
        "## Initializing"
      ],
      "metadata": {
        "id": "LjKd2IhOSJUK"
      }
    },
    {
      "cell_type": "code",
      "execution_count": null,
      "metadata": {
        "id": "QJevxX0VNsf7"
      },
      "outputs": [],
      "source": [
        "!pip uninstall torch torchvision torchaudio -y"
      ]
    },
    {
      "cell_type": "code",
      "source": [
        "!pip install torch==1.11.0+cu115 torchvision==0.12.0+cu115 torchaudio==0.11.0 -f https://download.pytorch.org/whl/cu115/torch_stable.html\n"
      ],
      "metadata": {
        "id": "Jixnv1hRON_3"
      },
      "execution_count": null,
      "outputs": []
    },
    {
      "cell_type": "code",
      "source": [
        "import torch\n",
        "print(torch.__version__)\n",
        "print(torch.cuda.is_available())  # Should print True if CUDA is available"
      ],
      "metadata": {
        "colab": {
          "base_uri": "https://localhost:8080/"
        },
        "id": "o9wqZY0jPDv7",
        "outputId": "727cae34-dd6b-4ed0-8f9b-2d0730526d52"
      },
      "execution_count": 3,
      "outputs": [
        {
          "output_type": "stream",
          "name": "stdout",
          "text": [
            "1.11.0+cu115\n",
            "False\n"
          ]
        }
      ]
    },
    {
      "cell_type": "code",
      "source": [
        "!pip install mmcv-full==1.5.0 -f https://download.openmmlab.com/mmcv/dist/cu115/torch1.11.0/index.html"
      ],
      "metadata": {
        "id": "CGwKHu3qPfU1"
      },
      "execution_count": null,
      "outputs": []
    },
    {
      "cell_type": "code",
      "source": [
        "import mmcv\n",
        "print(mmcv.__version__)"
      ],
      "metadata": {
        "id": "MpMxZRNkPsh9"
      },
      "execution_count": null,
      "outputs": []
    },
    {
      "cell_type": "code",
      "source": [
        "from google.colab import drive\n",
        "drive.mount('/content/drive')"
      ],
      "metadata": {
        "id": "5XeSL079P0FZ"
      },
      "execution_count": null,
      "outputs": []
    },
    {
      "cell_type": "code",
      "source": [
        "%cd /content/drive/My\\ Drive/FYP"
      ],
      "metadata": {
        "colab": {
          "base_uri": "https://localhost:8080/"
        },
        "id": "DHjWpmnCQDW2",
        "outputId": "d7cb0a58-734b-4b9b-cf10-e8386b5b456c"
      },
      "execution_count": 8,
      "outputs": [
        {
          "output_type": "stream",
          "name": "stdout",
          "text": [
            "/content/drive/My Drive/FYP\n"
          ]
        }
      ]
    },
    {
      "cell_type": "code",
      "source": [
        "!git clone https://github.com/kennymckormick/pyskl.git"
      ],
      "metadata": {
        "id": "twydzqURQRD8"
      },
      "execution_count": null,
      "outputs": []
    },
    {
      "cell_type": "code",
      "source": [
        "%cd /content/drive/My\\ Drive/FYP/pyskl"
      ],
      "metadata": {
        "colab": {
          "base_uri": "https://localhost:8080/"
        },
        "id": "7LKtGaPuQw65",
        "outputId": "31bc7dc7-1f7d-46dd-e5c3-5fa97a7b1ad4"
      },
      "execution_count": 12,
      "outputs": [
        {
          "output_type": "stream",
          "name": "stdout",
          "text": [
            "/content/drive/My Drive/FYP/pyskl\n"
          ]
        }
      ]
    },
    {
      "cell_type": "code",
      "source": [
        "!pip install -r requirements.txt"
      ],
      "metadata": {
        "id": "cfXjII_wQ5wq"
      },
      "execution_count": null,
      "outputs": []
    },
    {
      "cell_type": "markdown",
      "source": [
        "**Editable Mode:**\n",
        "\n",
        "When you install a package with -e (editable mode), the package's source files remain in their original location. Any changes you make to these files will immediately reflect in the installed package.\n",
        "This is useful during development when you want to modify the package without reinstalling it repeatedly."
      ],
      "metadata": {
        "id": "dnVfWEIeRmjB"
      }
    },
    {
      "cell_type": "code",
      "source": [
        "!pip install -e ."
      ],
      "metadata": {
        "id": "ksdUntx4RpAO"
      },
      "execution_count": null,
      "outputs": []
    },
    {
      "cell_type": "code",
      "source": [
        "!pip install mmaction2"
      ],
      "metadata": {
        "id": "PDG0p0kYRxgt"
      },
      "execution_count": null,
      "outputs": []
    },
    {
      "cell_type": "markdown",
      "source": [
        "## Begin"
      ],
      "metadata": {
        "id": "-EL0NdpdSN_P"
      }
    },
    {
      "cell_type": "code",
      "source": [
        "import pyskl"
      ],
      "metadata": {
        "id": "NtbaxHQASPOx"
      },
      "execution_count": null,
      "outputs": []
    }
  ]
}